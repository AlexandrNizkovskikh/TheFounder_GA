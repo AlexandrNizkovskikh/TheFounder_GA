{
  "nbformat": 4,
  "nbformat_minor": 0,
  "metadata": {
    "colab": {
      "provenance": [],
      "toc_visible": true,
      "gpuType": "T4"
    },
    "kernelspec": {
      "name": "python3",
      "display_name": "Python 3"
    },
    "language_info": {
      "name": "python"
    },
    "accelerator": "GPU"
  },
  "cells": [
    {
      "cell_type": "markdown",
      "source": [
        "**Навигация по уроку**\n",
        "1. [Генетический алгоритм. Термины и понятия](https://colab.research.google.com/drive/14VjROMnDAiXvyv2nf47h16jJHJfM1Flm)\n",
        "2. [Применение генетических алгоритмов](https://colab.research.google.com/drive/1lONPg4nYhkAcPkylT4unfJ2XFHBfyNhJ)\n",
        "3. Домашняя работа"
      ],
      "metadata": {
        "id": "crGWkl8AnhEP"
      }
    },
    {
      "cell_type": "markdown",
      "source": [
        "В домашней работе вам необходимо выполнить любую задачу на выбор:"
      ],
      "metadata": {
        "id": "OXKJ4O8TQx6v"
      }
    },
    {
      "cell_type": "markdown",
      "source": [
        "# Установка библиотек"
      ],
      "metadata": {
        "id": "uTTTl4xEuZ-V"
      }
    },
    {
      "cell_type": "code",
      "source": [
        "#pip install deap"
      ],
      "metadata": {
        "id": "fmMKf6A-oPGL"
      },
      "execution_count": null,
      "outputs": []
    },
    {
      "cell_type": "markdown",
      "source": [
        "# Импорт библиотек"
      ],
      "metadata": {
        "id": "bv1NzzkTucSX"
      }
    },
    {
      "cell_type": "code",
      "source": [
        "# Работа с массивами и данными\n",
        "import numpy as np\n",
        "import random  # Для случайных чисел\n",
        "import time  # Для замера времени\n",
        "\n",
        "# Метрики и подготовка данных\n",
        "import pandas as pd\n",
        "import os\n",
        "from sklearn.preprocessing import StandardScaler\n",
        "from sklearn.metrics import accuracy_score\n",
        "from sklearn.model_selection import train_test_split\n",
        "from sklearn.utils.class_weight import compute_class_weight\n",
        "\n",
        "# Для генетического алгоритма\n",
        "#from deap import base, creator, tools, algorithms\n",
        "\n",
        "# Работа с машинным обучением\n",
        "from keras.models import Sequential\n",
        "from keras.layers import Dense, Input, Dropout\n",
        "from keras import layers\n",
        "from keras import optimizers\n",
        "from keras.applications import VGG16\n",
        "\n",
        "# Набор утилит для работы с файловой системой\n",
        "import shutil\n",
        "from tensorflow.keras.preprocessing.image import ImageDataGenerator"
      ],
      "metadata": {
        "id": "ZlHje_5woWJR"
      },
      "execution_count": null,
      "outputs": []
    },
    {
      "cell_type": "markdown",
      "source": [
        "# Датасет"
      ],
      "metadata": {
        "id": "_m2kKLy4uVo8"
      }
    },
    {
      "cell_type": "code",
      "source": [
        "conv_base = VGG16(weights='imagenet', include_top=False, input_shape=(150, 150, 3))"
      ],
      "metadata": {
        "colab": {
          "base_uri": "https://localhost:8080/"
        },
        "id": "EIrmLm8RJNV4",
        "outputId": "9ce518d8-6f84-4df2-ace3-6862cbe0a701"
      },
      "execution_count": null,
      "outputs": [
        {
          "output_type": "stream",
          "name": "stdout",
          "text": [
            "Downloading data from https://storage.googleapis.com/tensorflow/keras-applications/vgg16/vgg16_weights_tf_dim_ordering_tf_kernels_notop.h5\n",
            "\u001b[1m58889256/58889256\u001b[0m \u001b[32m━━━━━━━━━━━━━━━━━━━━\u001b[0m\u001b[37m\u001b[0m \u001b[1m4s\u001b[0m 0us/step\n"
          ]
        }
      ]
    },
    {
      "cell_type": "code",
      "source": [
        "# @title Загрузка набора данных\n",
        "\n",
        "!wget https://storage.yandexcloud.net/academy.ai/cat-and-dog.zip\n",
        "# Разархивируем датасета во временную папку 'temp'\n",
        "!unzip -qo \"cat-and-dog\" -d ./temp"
      ],
      "metadata": {
        "colab": {
          "base_uri": "https://localhost:8080/"
        },
        "id": "ZkbpJGW3FSRC",
        "outputId": "7ae9e565-ca9a-48b3-b4c3-d5d3939108fb"
      },
      "execution_count": null,
      "outputs": [
        {
          "output_type": "stream",
          "name": "stdout",
          "text": [
            "--2025-01-18 16:12:13--  https://storage.yandexcloud.net/academy.ai/cat-and-dog.zip\n",
            "Resolving storage.yandexcloud.net (storage.yandexcloud.net)... 213.180.193.243, 2a02:6b8::1d9\n",
            "Connecting to storage.yandexcloud.net (storage.yandexcloud.net)|213.180.193.243|:443... connected.\n",
            "HTTP request sent, awaiting response... 200 OK\n",
            "Length: 228082266 (218M) [application/x-zip-compressed]\n",
            "Saving to: ‘cat-and-dog.zip’\n",
            "\n",
            "cat-and-dog.zip     100%[===================>] 217.52M  9.53MB/s    in 25s     \n",
            "\n",
            "2025-01-18 16:12:40 (8.75 MB/s) - ‘cat-and-dog.zip’ saved [228082266/228082266]\n",
            "\n"
          ]
        }
      ]
    },
    {
      "cell_type": "code",
      "source": [
        "# @title Создание путей для датасета\n",
        "\n",
        "# Папка с папками картинок, рассортированных по категориям\n",
        "IMAGE_PATH = './temp/training_set/training_set/'\n",
        "\n",
        "# Папка в которой будем создавать выборки\n",
        "BASE_DIR = './dataset/'\n",
        "\n",
        "# Определение списка имен классов\n",
        "CLASS_LIST = sorted(os.listdir(IMAGE_PATH))\n",
        "\n",
        "# Определение количества классов\n",
        "CLASS_COUNT = len(CLASS_LIST)\n",
        "\n",
        "# При повторном запуске пересоздаим структуру каталогов\n",
        "# Если папка существует, то удаляем ее со всеми вложенными каталогами и файлами\n",
        "if os.path.exists(BASE_DIR):\n",
        "    shutil.rmtree(BASE_DIR)\n",
        "\n",
        "# Создаем папку по пути BASE_DIR\n",
        "os.mkdir(BASE_DIR)\n",
        "\n",
        "# Сцепляем путь до папки с именем вложенной папки. Аналогично BASE_DIR + '/train'\n",
        "train_dir = os.path.join(BASE_DIR, 'train')\n",
        "\n",
        "# Создаем подпапку, используя путь\n",
        "os.mkdir(train_dir)\n",
        "\n",
        "# Сцепляем путь до папки с именем вложенной папки. Аналогично BASE_DIR + '/validation'\n",
        "test_dir = os.path.join(BASE_DIR, 'test')\n",
        "\n",
        "# Создаем подпапку, используя путь\n",
        "os.mkdir(test_dir)"
      ],
      "metadata": {
        "id": "CEweXG1-V1LX"
      },
      "execution_count": null,
      "outputs": []
    },
    {
      "cell_type": "markdown",
      "source": [
        "## Предобработка датасета"
      ],
      "metadata": {
        "id": "7Kc_uQPSHHIl"
      }
    },
    {
      "cell_type": "code",
      "source": [
        "# Функция создания подвыборок (папок с файлами)\n",
        "def create_dataset(\n",
        "    img_path: str,         # Путь к файлам с изображениями классов\n",
        "    new_path: str,         # Путь к папке с выборками\n",
        "    class_name: str,       # Имя класса (оно же и имя папки)\n",
        "    start_index: int,      # Стартовый индекс изображения, с которого начинаем подвыборку\n",
        "    end_index: int         # Конечный индекс изображения, до которого создаем подвыборку\n",
        "\n",
        "):\n",
        "\n",
        "    src_path = os.path.join(img_path, class_name)  # Полный путь к папке с изображениями класса\n",
        "    dst_path = os.path.join(new_path, class_name)  # Полный путь к папке с новым датасетом класса\n",
        "\n",
        "    # Получение списка имен файлов с изображениями текущего класса\n",
        "    class_files = os.listdir(src_path)\n",
        "\n",
        "    # Создаем подпапку, используя путь\n",
        "    os.mkdir(dst_path)\n",
        "\n",
        "    # Перебираем элементы, отобранного списка с начального по конечный индекс\n",
        "    for fname in class_files[start_index : end_index]:\n",
        "        # Путь к файлу (источник)\n",
        "        src = os.path.join(src_path, fname)\n",
        "        # Новый путь расположения файла (назначение)\n",
        "        dst = os.path.join(dst_path, fname)\n",
        "        # Копируем файл из источника в новое место (назначение)\n",
        "        shutil.copyfile(src, dst)"
      ],
      "metadata": {
        "id": "6KUy5gywFd-P"
      },
      "execution_count": null,
      "outputs": []
    },
    {
      "cell_type": "code",
      "source": [
        "for class_label in range(CLASS_COUNT):    # Перебор по всем классам по порядку номеров (их меток)\n",
        "    class_name = CLASS_LIST[class_label]  # Выборка имени класса из списка имен\n",
        "\n",
        "    # Создаем обучающую выборку для заданного класса из диапазона (0-1500)\n",
        "    create_dataset(IMAGE_PATH, train_dir, class_name, 0, 1500)\n",
        "    # Создаем проверочную выборку для заданного класса из диапазона (1500-2000)\n",
        "    create_dataset(IMAGE_PATH, test_dir, class_name, 1500, 2000)"
      ],
      "metadata": {
        "id": "j8RCYsLBFfaK"
      },
      "execution_count": null,
      "outputs": []
    },
    {
      "cell_type": "code",
      "source": [
        "datagen = ImageDataGenerator(rescale=1./255) # Задаем генератор и нормализуем данные делением на 255\n",
        "batch_size = 20 # Размер батча (20 изображений)"
      ],
      "metadata": {
        "id": "mRrPHMuPV3YD"
      },
      "execution_count": null,
      "outputs": []
    },
    {
      "cell_type": "code",
      "source": [
        "# Функция извлечения признаков\n",
        "def extract_features(directory, sample_count):\n",
        "    # определяем размерность признаков, заполняем нулями\n",
        "    features = np.zeros(shape=(sample_count, 4, 4, 512))\n",
        "    # определяем размерность выходных меток, заполняем нулями\n",
        "    labels = np.zeros(shape=(sample_count))\n",
        "\n",
        "    # генерируем данные из папки\n",
        "    generator = datagen.flow_from_directory(\n",
        "        directory,                # путь к папке\n",
        "        target_size=(150, 150),   # изменить картинки до размера 150 х 150\n",
        "        batch_size=batch_size,    # размер пакета\n",
        "        class_mode='binary'       # задача бинарной классификации\n",
        "    )\n",
        "    i = 0\n",
        "    for inputs_batch, labels_batch in generator: # в цикле пошагово генерируем пакет с картинками и пакет из меток\n",
        "        features_batch = conv_base.predict(inputs_batch, verbose=0) # делаем предсказание на сгенерируемом пакете\n",
        "        features[i * batch_size : (i + 1) * batch_size] = features_batch # складываем пакеты с признаками пачками в массив с признаками\n",
        "\n",
        "        labels[i * batch_size : (i + 1) * batch_size] = labels_batch     # складываем пакеты с метками в массив с метками\n",
        "        i += 1\n",
        "\n",
        "        if i * batch_size >= sample_count: # Прерываем генерацию, когда выходим за число желаемых примеров\n",
        "            break\n",
        "\n",
        "    return features, labels # возвращаем кортеж (признаки, метки)"
      ],
      "metadata": {
        "id": "hyJyBZU6GY7V"
      },
      "execution_count": null,
      "outputs": []
    },
    {
      "cell_type": "code",
      "source": [
        "# Извлекаем (признаки, метки) для обучающей выборки, 2500 образцов\n",
        "train_features, train_labels = extract_features(train_dir, 2500)\n",
        "\n",
        "# Извлекаем (признаки, метки) для проверочной выборки, 1500 образцов\n",
        "test_features, test_labels = extract_features(test_dir, 1500)"
      ],
      "metadata": {
        "colab": {
          "base_uri": "https://localhost:8080/"
        },
        "id": "1au-YPmHGbGK",
        "outputId": "344679cf-103c-42e6-d14c-b30c371caa15"
      },
      "execution_count": null,
      "outputs": [
        {
          "output_type": "stream",
          "name": "stdout",
          "text": [
            "Found 3000 images belonging to 2 classes.\n",
            "Found 1000 images belonging to 2 classes.\n"
          ]
        }
      ]
    },
    {
      "cell_type": "code",
      "source": [
        "train_features = np.reshape(train_features, (2500, 4 * 4 * 512))              # приводим к форме (образцы, 8192) обучающие признаки\n",
        "test_features = np.reshape(test_features, (1500, 4 * 4 * 512))    # приводим к форме (образцы, 8192) проверочные признаки"
      ],
      "metadata": {
        "id": "RMvGHPKSV4tF"
      },
      "execution_count": null,
      "outputs": []
    },
    {
      "cell_type": "markdown",
      "source": [
        "# Реализация ГА для подбора гиперпараметров"
      ],
      "metadata": {
        "id": "2bptIiZg1v77"
      }
    },
    {
      "cell_type": "markdown",
      "source": [
        "## Диапазон подбора"
      ],
      "metadata": {
        "id": "bjbE2gp2B_aF"
      }
    },
    {
      "cell_type": "code",
      "source": [
        "param_ranges = {\n",
        "    \"learning_rate\": (2e-5, 0.1),\n",
        "    \"num_layers\": (1, 6),\n",
        "    \"num_neurons\": (100, 500),\n",
        "    \"activation\": ['relu', 'tanh'],\n",
        "    \"batch_size\": (16, 256),  # Увеличен минимальный размер батча\n",
        "    \"dropout_rate\": (0.1, 0.4)  # Ограничен диапазон Dropout\n",
        "}"
      ],
      "metadata": {
        "id": "WxIY5P-wLcTW"
      },
      "execution_count": null,
      "outputs": []
    },
    {
      "cell_type": "code",
      "source": [
        "def random_params():\n",
        "    return (\n",
        "        random.uniform(*param_ranges[\"learning_rate\"]),\n",
        "        random.randint(*param_ranges[\"num_layers\"]),\n",
        "        random.randint(*param_ranges[\"num_neurons\"]),\n",
        "        random.choice(param_ranges[\"activation\"]),\n",
        "        random.randint(*param_ranges[\"batch_size\"]),\n",
        "        random.uniform(*param_ranges[\"dropout_rate\"])\n",
        "    )"
      ],
      "metadata": {
        "id": "jvVI_OwT9Qai"
      },
      "execution_count": null,
      "outputs": []
    },
    {
      "cell_type": "markdown",
      "source": [
        "## Функция компиляции модели и подсчет весовых коэфициентов"
      ],
      "metadata": {
        "id": "i03X0fLuHSbg"
      }
    },
    {
      "cell_type": "code",
      "source": [
        "def fitness_function(params):\n",
        "    learning_rate, num_layers, num_neurons, activation, batch_size, dropout_rate = params\n",
        "\n",
        "    model = Sequential()\n",
        "    model.add(Input(shape=(4 * 4 * 512,)))\n",
        "    for _ in range(num_layers - 1):\n",
        "        model.add(Dense(num_neurons, activation=activation))\n",
        "        model.add(Dropout(dropout_rate))\n",
        "    model.add(Dense(1, activation='sigmoid'))\n",
        "\n",
        "    model.compile(optimizer=optimizers.RMSprop(learning_rate=learning_rate),\n",
        "                  loss='binary_crossentropy', metrics=['accuracy'])\n",
        "\n",
        "    start_time = time.time()\n",
        "    model.fit(train_features,\n",
        "              train_labels, epochs=5,\n",
        "              batch_size=batch_size,\n",
        "              verbose=0)\n",
        "    end_time = time.time()\n",
        "\n",
        "    training_time = end_time - start_time\n",
        "    y_pred_probs = model.predict(test_features, verbose=0)\n",
        "    y_pred = (y_pred_probs > 0.5).astype(int)  # Бинаризация предсказаний\n",
        "    accuracy = accuracy_score(test_labels, y_pred)\n",
        "\n",
        "    # Итоговый балл с использованием весовых коэффициентов\n",
        "    weight_accuracy = 0.8  # Вес для точности\n",
        "    weight_time = 0.2      # Вес для времени обучения\n",
        "    score = (weight_accuracy * accuracy) - (weight_time * training_time)\n",
        "\n",
        "    return score, accuracy, training_time"
      ],
      "metadata": {
        "id": "rb19WWA412A3"
      },
      "execution_count": null,
      "outputs": []
    },
    {
      "cell_type": "markdown",
      "source": [
        "## Реализация генетического алгоритма"
      ],
      "metadata": {
        "id": "Z0pLCWKhHag6"
      }
    },
    {
      "cell_type": "code",
      "source": [
        "# Генетический алгоритм\n",
        "def genetic_algorithm(population_size, num_generations, mutation_rate):\n",
        "    population = []  # Инициализация популяции\n",
        "    for _ in range(population_size):\n",
        "        population.append(random_params())\n",
        "\n",
        "    best_fitness = 0\n",
        "    best_individual = None\n",
        "    best_accuracy = None\n",
        "    best_training_time = None\n",
        "\n",
        "\n",
        "    for generation in range(num_generations):\n",
        "        print(f\"\\nПоколение {generation + 1}/{num_generations}\")\n",
        "\n",
        "        fitness_scores = []\n",
        "        for idx, individual in enumerate(population):\n",
        "            score, accuracy, training_time = fitness_function(individual)\n",
        "            fitness_scores.append((score, accuracy, training_time))\n",
        "            print(f\"Особь {idx + 1}: LR={individual[0]:.4f}, \"\n",
        "                  f\"Слои={individual[1]}, Нейроны={individual[2]}, \"\n",
        "                  f\"Активация={individual[3]}, Batch={individual[4]}, \"\n",
        "                  f\"Dropout={individual[5]:.2f}, accuracy={accuracy:.4f}, \"\n",
        "                  f\"Время={training_time:.2f} сек, Итоговый балл={score:.4f}\")\n",
        "\n",
        "        current_best_idx = np.argmax([fs[0] for fs in fitness_scores])  # Индекс лучшего score\n",
        "        current_best_fitness, current_best_accuracy, current_best_training_time = fitness_scores[current_best_idx]\n",
        "        current_best_individual = population[current_best_idx]\n",
        "\n",
        "        if current_best_fitness > best_fitness:\n",
        "            best_fitness = current_best_fitness\n",
        "            best_individual = current_best_individual\n",
        "            best_accuracy = current_best_accuracy\n",
        "            best_training_time = current_best_training_time\n",
        "            print(f\"\\nНовый лучший результат!\")\n",
        "            print(f\"Параметры: LR={best_individual[0]:.4f}, \"\n",
        "                f\"Слои={best_individual[1]}, Нейроны={best_individual[2]}, \"\n",
        "                f\"Активация={best_individual[3]}, Batch={best_individual[4]}, \"\n",
        "                f\"Dropout={best_individual[5]:.2f}\")\n",
        "            print(f\"accuracy: {best_accuracy:.4f}, Время: {best_training_time:.2f} сек, Итоговый балл: {best_fitness:.4f}\")\n",
        "\n",
        "\n",
        "\n",
        "        # Селекция\n",
        "        selected_population = []\n",
        "        for _ in range(population_size):\n",
        "            tournament = random.sample(list(zip(population, fitness_scores)), 3)\n",
        "            winner = max(tournament, key=lambda x: x[1])[0]\n",
        "            selected_population.append(winner)\n",
        "\n",
        "        # Создание нового поколения\n",
        "        new_population = []\n",
        "        for i in range(0, population_size, 2):\n",
        "            parent1, parent2 = selected_population[i], selected_population[i + 1]\n",
        "            child1, child2 = crossover(parent1, parent2)\n",
        "            child1 = mutate(child1, mutation_rate)\n",
        "            child2 = mutate(child2, mutation_rate)\n",
        "            new_population.extend([child1, child2])\n",
        "\n",
        "        population = new_population\n",
        "\n",
        "    return best_individual, best_fitness, best_accuracy, best_training_time"
      ],
      "metadata": {
        "id": "OTAMq7Kw2AZn"
      },
      "execution_count": null,
      "outputs": []
    },
    {
      "cell_type": "code",
      "source": [
        "def crossover(parent1, parent2):\n",
        "    child1 = (\n",
        "        parent1[0],  # Learning rate от первого родителя\n",
        "        parent2[1],  # Количество слоев от второго родителя\n",
        "        parent1[2],  # Нейроны от первого родителя\n",
        "        parent2[3],  # Активация от второго родителя\n",
        "        parent1[4],  # Batch size от первого родителя\n",
        "        parent2[5]   # Dropout от второго родителя\n",
        "    )\n",
        "    child2 = (\n",
        "        parent2[0],\n",
        "        parent1[1],\n",
        "        parent2[2],\n",
        "        parent1[3],\n",
        "        parent2[4],\n",
        "        parent1[5]\n",
        "    )\n",
        "    return child1, child2"
      ],
      "metadata": {
        "id": "NitxXPQ_2CRZ"
      },
      "execution_count": null,
      "outputs": []
    },
    {
      "cell_type": "code",
      "source": [
        "def mutate(individual, mutation_rate):\n",
        "    if random.random() < mutation_rate:\n",
        "        return random_params()  # Генерация новой особи\n",
        "    return individual"
      ],
      "metadata": {
        "id": "nPQLyMWr2HGP"
      },
      "execution_count": null,
      "outputs": []
    },
    {
      "cell_type": "markdown",
      "source": [
        "## Запуск обучения"
      ],
      "metadata": {
        "id": "MK3I5wZkHnEr"
      }
    },
    {
      "cell_type": "code",
      "source": [
        "# Запуск генетического алгоритма\n",
        "population_size = 10\n",
        "num_generations = 10\n",
        "mutation_rate = 0.1\n",
        "\n",
        "best_params, best_fitness, best_accuracy, best_training_time = genetic_algorithm(population_size, num_generations, mutation_rate)\n",
        "print(\"\\nИтоговые результаты:\")\n",
        "print(f\"Лучшие гиперпараметры: LR={best_params[0]:.4f}, Слои={best_params[1]}, \"\n",
        "      f\"Нейроны={best_params[2]}, Активация={best_params[3]}, Batch={best_params[4]}, Dropout={best_params[5]:.2f}\")\n",
        "print(f\"Лучшая accuracy: {best_accuracy:.4f}, Время: {best_training_time:.2f} сек, Итоговый балл: {best_fitness:.4f}\")"
      ],
      "metadata": {
        "colab": {
          "base_uri": "https://localhost:8080/"
        },
        "id": "RdBW9ENd2KQE",
        "outputId": "116faecb-53b5-4247-e316-b2e94e53d6bb"
      },
      "execution_count": null,
      "outputs": [
        {
          "output_type": "stream",
          "name": "stdout",
          "text": [
            "\n",
            "Поколение 1/10\n",
            "Особь 1: LR=0.0906, Слои=1, Нейроны=168, Активация=relu, Batch=51, Dropout=0.31, accuracy=0.8967, Время=2.42 сек, Итоговый балл=0.2338\n",
            "Особь 2: LR=0.0885, Слои=1, Нейроны=235, Активация=relu, Batch=25, Dropout=0.32, accuracy=0.8913, Время=2.00 сек, Итоговый балл=0.3135\n",
            "Особь 3: LR=0.0595, Слои=1, Нейроны=268, Активация=relu, Batch=86, Dropout=0.25, accuracy=0.8887, Время=2.39 сек, Итоговый балл=0.2332\n",
            "Особь 4: LR=0.0238, Слои=3, Нейроны=387, Активация=relu, Batch=170, Dropout=0.28, accuracy=0.8587, Время=5.12 сек, Итоговый балл=-0.3378\n",
            "Особь 5: LR=0.0070, Слои=5, Нейроны=431, Активация=relu, Batch=229, Dropout=0.16, accuracy=0.8173, Время=7.55 сек, Итоговый балл=-0.8570\n",
            "Особь 6: LR=0.0029, Слои=1, Нейроны=222, Активация=relu, Batch=105, Dropout=0.28, accuracy=0.8920, Время=2.02 сек, Итоговый балл=0.3094\n",
            "Особь 7: LR=0.0915, Слои=4, Нейроны=495, Активация=tanh, Batch=239, Dropout=0.40, accuracy=0.5053, Время=6.90 сек, Итоговый балл=-0.9748\n",
            "Особь 8: LR=0.0614, Слои=5, Нейроны=393, Активация=tanh, Batch=118, Dropout=0.35, accuracy=0.5053, Время=7.01 сек, Итоговый балл=-0.9968\n",
            "Особь 9: LR=0.0872, Слои=1, Нейроны=106, Активация=relu, Batch=217, Dropout=0.13, accuracy=0.8100, Время=2.42 сек, Итоговый балл=0.1637\n",
            "Особь 10: LR=0.0535, Слои=4, Нейроны=119, Активация=relu, Batch=68, Dropout=0.32, accuracy=0.5053, Время=7.33 сек, Итоговый балл=-1.0613\n",
            "\n",
            "Новый лучший результат!\n",
            "Параметры: LR=0.0885, Слои=1, Нейроны=235, Активация=relu, Batch=25, Dropout=0.32\n",
            "accuracy: 0.8913, Время: 2.00 сек, Итоговый балл: 0.3135\n",
            "\n",
            "Поколение 2/10\n",
            "Особь 1: LR=0.0906, Слои=1, Нейроны=168, Активация=relu, Batch=51, Dropout=0.25, accuracy=0.8047, Время=1.74 сек, Итоговый балл=0.2959\n",
            "Особь 2: LR=0.0225, Слои=1, Нейроны=434, Активация=tanh, Batch=92, Dropout=0.20, accuracy=0.8840, Время=1.87 сек, Итоговый балл=0.3337\n",
            "Особь 3: LR=0.0885, Слои=1, Нейроны=235, Активация=relu, Batch=25, Dropout=0.32, accuracy=0.8853, Время=2.25 сек, Итоговый балл=0.2573\n",
            "Особь 4: LR=0.0531, Слои=1, Нейроны=300, Активация=tanh, Batch=103, Dropout=0.35, accuracy=0.6780, Время=2.28 сек, Итоговый балл=0.0856\n",
            "Особь 5: LR=0.0029, Слои=1, Нейроны=222, Активация=relu, Batch=105, Dropout=0.32, accuracy=0.8520, Время=1.70 сек, Итоговый балл=0.3408\n",
            "Особь 6: LR=0.0885, Слои=1, Нейроны=235, Активация=relu, Batch=25, Dropout=0.28, accuracy=0.9020, Время=1.64 сек, Итоговый балл=0.3940\n",
            "Особь 7: LR=0.0885, Слои=1, Нейроны=235, Активация=relu, Batch=25, Dropout=0.31, accuracy=0.8673, Время=1.65 сек, Итоговый балл=0.3644\n",
            "Особь 8: LR=0.0336, Слои=6, Нейроны=214, Активация=relu, Batch=27, Dropout=0.11, accuracy=0.4947, Время=9.14 сек, Итоговый балл=-1.4315\n",
            "Особь 9: LR=0.0906, Слои=1, Нейроны=168, Активация=relu, Batch=51, Dropout=0.32, accuracy=0.8487, Время=1.78 сек, Итоговый балл=0.3230\n",
            "Особь 10: LR=0.0886, Слои=2, Нейроны=419, Активация=tanh, Batch=25, Dropout=0.33, accuracy=0.4947, Время=4.43 сек, Итоговый балл=-0.4909\n",
            "\n",
            "Новый лучший результат!\n",
            "Параметры: LR=0.0885, Слои=1, Нейроны=235, Активация=relu, Batch=25, Dropout=0.28\n",
            "accuracy: 0.9020, Время: 1.64 сек, Итоговый балл: 0.3940\n",
            "\n",
            "Поколение 3/10\n",
            "Особь 1: LR=0.0029, Слои=1, Нейроны=222, Активация=relu, Batch=105, Dropout=0.25, accuracy=0.8907, Время=1.71 сек, Итоговый балл=0.3715\n",
            "Особь 2: LR=0.0906, Слои=1, Нейроны=168, Активация=relu, Batch=51, Dropout=0.32, accuracy=0.5920, Время=1.70 сек, Итоговый балл=0.1329\n",
            "Особь 3: LR=0.0885, Слои=1, Нейроны=235, Активация=relu, Batch=25, Dropout=0.31, accuracy=0.8827, Время=1.49 сек, Итоговый балл=0.4081\n",
            "Особь 4: LR=0.0885, Слои=1, Нейроны=235, Активация=relu, Batch=25, Dropout=0.31, accuracy=0.8053, Время=1.80 сек, Итоговый балл=0.2849\n",
            "Особь 5: LR=0.0225, Слои=1, Нейроны=434, Активация=relu, Batch=92, Dropout=0.32, accuracy=0.8667, Время=2.24 сек, Итоговый балл=0.2460\n",
            "Особь 6: LR=0.0885, Слои=1, Нейроны=235, Активация=tanh, Batch=25, Dropout=0.20, accuracy=0.8340, Время=1.64 сек, Итоговый балл=0.3387\n",
            "Особь 7: LR=0.0885, Слои=1, Нейроны=235, Активация=relu, Batch=25, Dropout=0.31, accuracy=0.8493, Время=1.99 сек, Итоговый балл=0.2810\n",
            "Особь 8: LR=0.0885, Слои=1, Нейроны=235, Активация=relu, Batch=25, Dropout=0.28, accuracy=0.8733, Время=1.83 сек, Итоговый балл=0.3322\n",
            "Особь 9: LR=0.0885, Слои=1, Нейроны=235, Активация=relu, Batch=25, Dropout=0.31, accuracy=0.8293, Время=1.67 сек, Итоговый балл=0.3297\n",
            "Особь 10: LR=0.0885, Слои=1, Нейроны=235, Активация=relu, Batch=25, Dropout=0.28, accuracy=0.7240, Время=2.36 сек, Итоговый балл=0.1071\n",
            "\n",
            "Новый лучший результат!\n",
            "Параметры: LR=0.0885, Слои=1, Нейроны=235, Активация=relu, Batch=25, Dropout=0.31\n",
            "accuracy: 0.8827, Время: 1.49 сек, Итоговый балл: 0.4081\n",
            "\n",
            "Поколение 4/10\n",
            "Особь 1: LR=0.0029, Слои=1, Нейроны=222, Активация=tanh, Batch=105, Dropout=0.20, accuracy=0.8867, Время=1.76 сек, Итоговый балл=0.3582\n",
            "Особь 2: LR=0.0885, Слои=1, Нейроны=235, Активация=relu, Batch=25, Dropout=0.25, accuracy=0.9053, Время=1.64 сек, Итоговый балл=0.3968\n",
            "Особь 3: LR=0.0885, Слои=1, Нейроны=235, Активация=relu, Batch=25, Dropout=0.25, accuracy=0.7467, Время=1.64 сек, Итоговый балл=0.2699\n",
            "Особь 4: LR=0.0029, Слои=1, Нейроны=222, Активация=tanh, Batch=105, Dropout=0.20, accuracy=0.8487, Время=1.72 сек, Итоговый балл=0.3348\n",
            "Особь 5: LR=0.0885, Слои=1, Нейроны=235, Активация=relu, Batch=25, Dropout=0.31, accuracy=0.8480, Время=1.71 сек, Итоговый балл=0.3372\n",
            "Особь 6: LR=0.0885, Слои=1, Нейроны=235, Активация=relu, Batch=25, Dropout=0.31, accuracy=0.8887, Время=2.39 сек, Итоговый балл=0.2320\n",
            "Особь 7: LR=0.0885, Слои=1, Нейроны=235, Активация=relu, Batch=25, Dropout=0.31, accuracy=0.8733, Время=2.15 сек, Итоговый балл=0.2688\n",
            "Особь 8: LR=0.0885, Слои=1, Нейроны=235, Активация=relu, Batch=25, Dropout=0.31, accuracy=0.8840, Время=1.64 сек, Итоговый балл=0.3784\n",
            "Особь 9: LR=0.0885, Слои=1, Нейроны=235, Активация=relu, Batch=25, Dropout=0.31, accuracy=0.8920, Время=2.12 сек, Итоговый балл=0.2904\n",
            "Особь 10: LR=0.0885, Слои=1, Нейроны=235, Активация=relu, Batch=25, Dropout=0.31, accuracy=0.8373, Время=1.80 сек, Итоговый балл=0.3101\n",
            "\n",
            "Поколение 5/10\n",
            "Особь 1: LR=0.0885, Слои=1, Нейроны=235, Активация=relu, Batch=25, Dropout=0.25, accuracy=0.8860, Время=1.95 сек, Итоговый балл=0.3198\n",
            "Особь 2: LR=0.0885, Слои=1, Нейроны=235, Активация=relu, Batch=25, Dropout=0.25, accuracy=0.8753, Время=1.56 сек, Итоговый балл=0.3892\n",
            "Особь 3: LR=0.0885, Слои=1, Нейроны=235, Активация=relu, Batch=25, Dropout=0.31, accuracy=0.8913, Время=1.79 сек, Итоговый балл=0.3542\n",
            "Особь 4: LR=0.0885, Слои=1, Нейроны=235, Активация=relu, Batch=25, Dropout=0.25, accuracy=0.8393, Время=1.64 сек, Итоговый балл=0.3437\n",
            "Особь 5: LR=0.0885, Слои=1, Нейроны=235, Активация=relu, Batch=25, Dropout=0.31, accuracy=0.8607, Время=1.81 сек, Итоговый балл=0.3267\n",
            "Особь 6: LR=0.0885, Слои=1, Нейроны=235, Активация=relu, Batch=25, Dropout=0.31, accuracy=0.8607, Время=2.40 сек, Итоговый балл=0.2083\n",
            "Особь 7: LR=0.0885, Слои=1, Нейроны=235, Активация=relu, Batch=25, Dropout=0.31, accuracy=0.8920, Время=1.98 сек, Итоговый балл=0.3181\n",
            "Особь 8: LR=0.0885, Слои=1, Нейроны=235, Активация=relu, Batch=25, Dropout=0.25, accuracy=0.8740, Время=1.82 сек, Итоговый балл=0.3343\n",
            "Особь 9: LR=0.0885, Слои=1, Нейроны=235, Активация=relu, Batch=25, Dropout=0.25, accuracy=0.8873, Время=1.96 сек, Итоговый балл=0.3181\n",
            "Особь 10: LR=0.0885, Слои=1, Нейроны=235, Активация=relu, Batch=25, Dropout=0.25, accuracy=0.8927, Время=2.24 сек, Итоговый балл=0.2659\n",
            "\n",
            "Поколение 6/10\n",
            "Особь 1: LR=0.0885, Слои=1, Нейроны=235, Активация=relu, Batch=25, Dropout=0.31, accuracy=0.8833, Время=2.44 сек, Итоговый балл=0.2194\n",
            "Особь 2: LR=0.0716, Слои=5, Нейроны=452, Активация=tanh, Batch=218, Dropout=0.15, accuracy=0.4947, Время=7.13 сек, Итоговый балл=-1.0306\n",
            "Особь 3: LR=0.0885, Слои=1, Нейроны=235, Активация=relu, Batch=25, Dropout=0.31, accuracy=0.7527, Время=2.00 сек, Итоговый балл=0.2024\n",
            "Особь 4: LR=0.0885, Слои=1, Нейроны=235, Активация=relu, Batch=25, Dropout=0.31, accuracy=0.8660, Время=1.83 сек, Итоговый балл=0.3267\n",
            "Особь 5: LR=0.0420, Слои=3, Нейроны=459, Активация=tanh, Batch=234, Dropout=0.13, accuracy=0.4947, Время=6.67 сек, Итоговый балл=-0.9390\n",
            "Особь 6: LR=0.0885, Слои=1, Нейроны=235, Активация=relu, Batch=25, Dropout=0.25, accuracy=0.8280, Время=2.49 сек, Итоговый балл=0.1637\n",
            "Особь 7: LR=0.0885, Слои=1, Нейроны=235, Активация=relu, Batch=25, Dropout=0.31, accuracy=0.8200, Время=1.86 сек, Итоговый балл=0.2850\n",
            "Особь 8: LR=0.0885, Слои=1, Нейроны=235, Активация=relu, Batch=25, Dropout=0.31, accuracy=0.8800, Время=1.99 сек, Итоговый балл=0.3069\n",
            "Особь 9: LR=0.0649, Слои=6, Нейроны=225, Активация=tanh, Batch=103, Dropout=0.20, accuracy=0.4947, Время=8.60 сек, Итоговый балл=-1.3248\n",
            "Особь 10: LR=0.0885, Слои=1, Нейроны=235, Активация=relu, Batch=25, Dropout=0.25, accuracy=0.8500, Время=1.69 сек, Итоговый балл=0.3423\n",
            "\n",
            "Поколение 7/10\n",
            "Особь 1: LR=0.0885, Слои=1, Нейроны=235, Активация=relu, Batch=25, Dropout=0.25, accuracy=0.8880, Время=2.13 сек, Итоговый балл=0.2836\n",
            "Особь 2: LR=0.0885, Слои=1, Нейроны=235, Активация=relu, Batch=25, Dropout=0.25, accuracy=0.8447, Время=1.54 сек, Итоговый балл=0.3685\n",
            "Особь 3: LR=0.0885, Слои=1, Нейроны=235, Активация=relu, Batch=25, Dropout=0.25, accuracy=0.6933, Время=2.25 сек, Итоговый балл=0.1054\n",
            "Особь 4: LR=0.0885, Слои=1, Нейроны=235, Активация=relu, Batch=25, Dropout=0.31, accuracy=0.8720, Время=1.92 сек, Итоговый балл=0.3139\n",
            "Особь 5: LR=0.0885, Слои=1, Нейроны=235, Активация=relu, Batch=25, Dropout=0.31, accuracy=0.8887, Время=1.83 сек, Итоговый балл=0.3440\n",
            "Особь 6: LR=0.0885, Слои=1, Нейроны=235, Активация=relu, Batch=25, Dropout=0.31, accuracy=0.8940, Время=1.70 сек, Итоговый балл=0.3754\n",
            "Особь 7: LR=0.0885, Слои=1, Нейроны=235, Активация=relu, Batch=25, Dropout=0.31, accuracy=0.9013, Время=1.82 сек, Итоговый балл=0.3569\n",
            "Особь 8: LR=0.0885, Слои=1, Нейроны=235, Активация=relu, Batch=25, Dropout=0.31, accuracy=0.8873, Время=1.80 сек, Итоговый балл=0.3492\n",
            "Особь 9: LR=0.0885, Слои=1, Нейроны=235, Активация=relu, Batch=25, Dropout=0.31, accuracy=0.7427, Время=1.90 сек, Итоговый балл=0.2138\n",
            "Особь 10: LR=0.0885, Слои=1, Нейроны=235, Активация=relu, Batch=25, Dropout=0.25, accuracy=0.8780, Время=1.64 сек, Итоговый балл=0.3744\n",
            "\n",
            "Поколение 8/10\n",
            "Особь 1: LR=0.0885, Слои=1, Нейроны=235, Активация=relu, Batch=25, Dropout=0.25, accuracy=0.9027, Время=1.67 сек, Итоговый балл=0.3885\n",
            "Особь 2: LR=0.0885, Слои=1, Нейроны=235, Активация=relu, Batch=25, Dropout=0.31, accuracy=0.8933, Время=2.15 сек, Итоговый балл=0.2840\n",
            "Особь 3: LR=0.0656, Слои=2, Нейроны=357, Активация=tanh, Batch=68, Dropout=0.27, accuracy=0.5053, Время=4.62 сек, Итоговый балл=-0.5189\n",
            "Особь 4: LR=0.0885, Слои=1, Нейроны=235, Активация=relu, Batch=25, Dropout=0.25, accuracy=0.8800, Время=1.72 сек, Итоговый балл=0.3607\n",
            "Особь 5: LR=0.0885, Слои=1, Нейроны=235, Активация=relu, Batch=25, Dropout=0.25, accuracy=0.8893, Время=2.16 сек, Итоговый балл=0.2793\n",
            "Особь 6: LR=0.0763, Слои=3, Нейроны=170, Активация=tanh, Batch=33, Dropout=0.23, accuracy=0.5053, Время=7.15 сек, Итоговый балл=-1.0253\n",
            "Особь 7: LR=0.0885, Слои=1, Нейроны=235, Активация=relu, Batch=25, Dropout=0.25, accuracy=0.8807, Время=1.85 сек, Итоговый балл=0.3347\n",
            "Особь 8: LR=0.0885, Слои=1, Нейроны=235, Активация=relu, Batch=25, Dropout=0.31, accuracy=0.8793, Время=1.97 сек, Итоговый балл=0.3088\n",
            "Особь 9: LR=0.0885, Слои=1, Нейроны=235, Активация=relu, Batch=25, Dropout=0.25, accuracy=0.8787, Время=1.82 сек, Итоговый балл=0.3394\n",
            "Особь 10: LR=0.0193, Слои=4, Нейроны=412, Активация=relu, Batch=155, Dropout=0.36, accuracy=0.4947, Время=7.35 сек, Итоговый балл=-1.0737\n",
            "\n",
            "Поколение 9/10\n",
            "Особь 1: LR=0.0885, Слои=1, Нейроны=235, Активация=relu, Batch=25, Dropout=0.25, accuracy=0.8840, Время=1.97 сек, Итоговый балл=0.3138\n",
            "Особь 2: LR=0.0685, Слои=1, Нейроны=399, Активация=tanh, Batch=34, Dropout=0.27, accuracy=0.8873, Время=1.95 сек, Итоговый балл=0.3201\n",
            "Особь 3: LR=0.0885, Слои=1, Нейроны=235, Активация=relu, Batch=25, Dropout=0.25, accuracy=0.8547, Время=2.60 сек, Итоговый балл=0.1642\n",
            "Особь 4: LR=0.0316, Слои=5, Нейроны=443, Активация=relu, Batch=201, Dropout=0.21, accuracy=0.4947, Время=7.13 сек, Итоговый балл=-1.0298\n",
            "Особь 5: LR=0.0885, Слои=1, Нейроны=235, Активация=relu, Batch=25, Dropout=0.25, accuracy=0.7387, Время=1.80 сек, Итоговый балл=0.2318\n",
            "Особь 6: LR=0.0631, Слои=2, Нейроны=486, Активация=relu, Batch=162, Dropout=0.35, accuracy=0.8293, Время=4.20 сек, Итоговый балл=-0.1767\n",
            "Особь 7: LR=0.0885, Слои=1, Нейроны=235, Активация=relu, Batch=25, Dropout=0.25, accuracy=0.7700, Время=2.19 сек, Итоговый балл=0.1771\n",
            "Особь 8: LR=0.0885, Слои=1, Нейроны=235, Активация=relu, Batch=25, Dropout=0.25, accuracy=0.8440, Время=1.99 сек, Итоговый балл=0.2780\n",
            "Особь 9: LR=0.0885, Слои=1, Нейроны=235, Активация=relu, Batch=25, Dropout=0.25, accuracy=0.8367, Время=1.95 сек, Итоговый балл=0.2796\n",
            "Особь 10: LR=0.0071, Слои=6, Нейроны=342, Активация=tanh, Batch=53, Dropout=0.15, accuracy=0.4947, Время=8.63 сек, Итоговый балл=-1.3310\n",
            "\n",
            "Поколение 10/10\n",
            "Особь 1: LR=0.0885, Слои=1, Нейроны=235, Активация=tanh, Batch=25, Dropout=0.27, accuracy=0.8880, Время=1.93 сек, Итоговый балл=0.3244\n",
            "Особь 2: LR=0.0685, Слои=1, Нейроны=399, Активация=relu, Batch=34, Dropout=0.25, accuracy=0.8313, Время=2.07 сек, Итоговый балл=0.2504\n",
            "Особь 3: LR=0.0885, Слои=1, Нейроны=235, Активация=relu, Batch=25, Dropout=0.25, accuracy=0.8687, Время=1.51 сек, Итоговый балл=0.3935\n",
            "Особь 4: LR=0.0885, Слои=1, Нейроны=235, Активация=relu, Batch=25, Dropout=0.25, accuracy=0.8433, Время=1.85 сек, Итоговый балл=0.3040\n",
            "Особь 5: LR=0.0685, Слои=1, Нейроны=399, Активация=tanh, Batch=34, Dropout=0.27, accuracy=0.8540, Время=1.79 сек, Итоговый балл=0.3242\n",
            "Особь 6: LR=0.0259, Слои=6, Нейроны=421, Активация=relu, Batch=137, Dropout=0.11, accuracy=0.6053, Время=13.07 сек, Итоговый балл=-2.1297\n",
            "Особь 7: LR=0.0885, Слои=1, Нейроны=235, Активация=relu, Batch=25, Dropout=0.25, accuracy=0.8853, Время=2.46 сек, Итоговый балл=0.2156\n",
            "Особь 8: LR=0.0885, Слои=1, Нейроны=235, Активация=relu, Batch=25, Dropout=0.25, accuracy=0.8613, Время=1.83 сек, Итоговый балл=0.3237\n",
            "Особь 9: LR=0.0885, Слои=1, Нейроны=235, Активация=tanh, Batch=25, Dropout=0.27, accuracy=0.8713, Время=1.68 сек, Итоговый балл=0.3602\n",
            "Особь 10: LR=0.0616, Слои=1, Нейроны=426, Активация=relu, Batch=232, Dropout=0.34, accuracy=0.8827, Время=2.28 сек, Итоговый балл=0.2511\n",
            "\n",
            "Итоговые результаты:\n",
            "Лучшие гиперпараметры: LR=0.0885, Слои=1, Нейроны=235, Активация=relu, Batch=25, Dropout=0.31\n",
            "Лучшая accuracy: 0.8827, Время: 1.49 сек, Итоговый балл: 0.4081\n"
          ]
        }
      ]
    },
    {
      "cell_type": "markdown",
      "source": [
        "# Итоги"
      ],
      "metadata": {
        "id": "lm4iRQDaOkEW"
      }
    },
    {
      "cell_type": "markdown",
      "source": [
        "Выявлена модель, показывающая наибольшый итоговый балл.\n",
        "\n",
        "Итоговый балл - разность весовых коэфициентов точности и времени обучения модели.\n",
        "\n",
        "Гиперпараметры подобраны с помощью генетического алгоритма.\n",
        "\n",
        "В качестве набора данных используется датасет Cats and Dogs."
      ],
      "metadata": {
        "id": "M-gKNS0pOmCB"
      }
    }
  ]
}